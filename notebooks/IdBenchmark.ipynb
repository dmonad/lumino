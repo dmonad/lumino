{
 "cells": [
  {
   "cell_type": "code",
   "execution_count": 1,
   "metadata": {},
   "outputs": [],
   "source": [
    "const datastore = require('@lumino/datastore');\n",
    "const TextField = datastore.TextField;"
   ]
  },
  {
   "cell_type": "markdown",
   "metadata": {},
   "source": [
    "## Manual exploration"
   ]
  },
  {
   "cell_type": "code",
   "execution_count": 2,
   "metadata": {},
   "outputs": [
    {
     "data": {
      "text/plain": [
       "{ ids: [], cemetery: {} }"
      ]
     },
     "execution_count": 2,
     "metadata": {},
     "output_type": "execute_result"
    }
   ],
   "source": [
    "field = new TextField({\n",
    "  description: 'A test text field.'\n",
    "});\n",
    "value = field.createValue()\n",
    "metadata = field.createMetadata()"
   ]
  },
  {
   "cell_type": "code",
   "execution_count": 18,
   "metadata": {},
   "outputs": [
    {
     "name": "stdout",
     "output_type": "stream",
     "text": [
      "耀\u0000\u0000\u0000\u0000\u0001\u0000\u0001 1\n",
      " 0\n",
      "lower 140737488355328 1 1\n",
      "upper 281474976710656 0 0\n",
      "[ 211106232532992 ]\n"
     ]
    }
   ],
   "source": [
    "let { value, change, patch } = field.applyUpdate({\n",
    "    previous: value,\n",
    "    update: {\n",
    "        index: 3,\n",
    "        remove: 0,\n",
    "        text: 'd'\n",
    "    },\n",
    "    metadata,\n",
    "    version: 4,\n",
    "    storeId: 1\n",
    "});\n"
   ]
  },
  {
   "cell_type": "code",
   "execution_count": 19,
   "metadata": {},
   "outputs": [
    {
     "data": {
      "text/plain": [
       "281474976710656"
      ]
     },
     "execution_count": 19,
     "metadata": {},
     "output_type": "execute_result"
    }
   ],
   "source": [
    "2**48"
   ]
  },
  {
   "cell_type": "code",
   "execution_count": 20,
   "metadata": {},
   "outputs": [
    {
     "data": {
      "text/plain": [
       "4"
      ]
     },
     "execution_count": 20,
     "metadata": {},
     "output_type": "execute_result"
    }
   ],
   "source": [
    "value.length"
   ]
  },
  {
   "cell_type": "code",
   "execution_count": 21,
   "metadata": {},
   "outputs": [
    {
     "data": {
      "text/plain": [
       "'cbad'"
      ]
     },
     "execution_count": 21,
     "metadata": {},
     "output_type": "execute_result"
    }
   ],
   "source": [
    "value"
   ]
  },
  {
   "cell_type": "code",
   "execution_count": 22,
   "metadata": {},
   "outputs": [
    {
     "data": {
      "text/plain": [
       "{\n",
       "  ids: [\n",
       "    ' \\u0000\\u0000\\u0000\\u0000\\u0003\\u0000\\u0001',\n",
       "    '䀀\\u0000\\u0000\\u0000\\u0000\\u0002\\u0000\\u0001',\n",
       "    '耀\\u0000\\u0000\\u0000\\u0000\\u0001\\u0000\\u0001',\n",
       "    '쀀\\u0000\\u0000\\u0000\\u0000\\u0004\\u0000\\u0001'\n",
       "  ],\n",
       "  cemetery: {}\n",
       "}"
      ]
     },
     "execution_count": 22,
     "metadata": {},
     "output_type": "execute_result"
    }
   ],
   "source": [
    "metadata"
   ]
  },
  {
   "cell_type": "markdown",
   "metadata": {},
   "source": [
    "## Random updates"
   ]
  },
  {
   "cell_type": "code",
   "execution_count": 2,
   "metadata": {},
   "outputs": [],
   "source": [
    "// Random int inclusive of both endpoints\n",
    "function randomInt(low, high) {\n",
    "    return low + Math.floor(Math.random() * (high-low+1));\n",
    "}"
   ]
  },
  {
   "cell_type": "code",
   "execution_count": 3,
   "metadata": {},
   "outputs": [
    {
     "data": {
      "text/plain": [
       "3"
      ]
     },
     "execution_count": 3,
     "metadata": {},
     "output_type": "execute_result"
    }
   ],
   "source": [
    "randomInt(3, 10)"
   ]
  },
  {
   "cell_type": "code",
   "execution_count": 4,
   "metadata": {},
   "outputs": [],
   "source": [
    "function poissonSample(lambda) {\n",
    "    let L = Math.exp(-lambda)\n",
    "    let k = 0;\n",
    "    let p = 1;\n",
    "    while (p > L) {\n",
    "        k = k + 1;\n",
    "        p = p*Math.random()\n",
    "    }\n",
    "    return k-1;\n",
    "}"
   ]
  },
  {
   "cell_type": "code",
   "execution_count": 5,
   "metadata": {},
   "outputs": [
    {
     "data": {
      "text/plain": [
       "10"
      ]
     },
     "execution_count": 5,
     "metadata": {},
     "output_type": "execute_result"
    }
   ],
   "source": [
    "poissonSample(10)"
   ]
  },
  {
   "cell_type": "code",
   "execution_count": 6,
   "metadata": {},
   "outputs": [],
   "source": [
    "function positivePoissonSample(lambda) {\n",
    "    let result = 0;\n",
    "    while (result === 0) {\n",
    "        result = poissonSample(lambda)\n",
    "    }\n",
    "    return result;\n",
    "}"
   ]
  },
  {
   "cell_type": "code",
   "execution_count": 7,
   "metadata": {},
   "outputs": [
    {
     "data": {
      "text/plain": [
       "3"
      ]
     },
     "execution_count": 7,
     "metadata": {},
     "output_type": "execute_result"
    }
   ],
   "source": [
    "positivePoissonSample(2)"
   ]
  },
  {
   "cell_type": "code",
   "execution_count": 8,
   "metadata": {},
   "outputs": [],
   "source": [
    "function randomUpdate(field, version, previous, metadata) {\n",
    "//     console.log(field, version, previous, metadata);\n",
    "    let index = randomInt(0, previous.length+1);\n",
    "    let remove = 0;\n",
    "    let text = 'A'.repeat(positivePoissonSample(100));\n",
    "    let newVersion = version + 1;\n",
    "    let { value } = field.applyUpdate({\n",
    "        previous,\n",
    "        update: {\n",
    "            index,\n",
    "            remove,\n",
    "            text\n",
    "        },\n",
    "        metadata,\n",
    "        version: newVersion,\n",
    "        storeId: 1\n",
    "    });\n",
    "    return {newVersion: newVersion, newValue: value};\n",
    "}"
   ]
  },
  {
   "cell_type": "code",
   "execution_count": 359,
   "metadata": {},
   "outputs": [
    {
     "data": {
      "text/plain": [
       "{ ids: [], cemetery: {} }"
      ]
     },
     "execution_count": 359,
     "metadata": {},
     "output_type": "execute_result"
    }
   ],
   "source": [
    "randomField = new TextField({\n",
    "  description: 'A test text field.'\n",
    "});\n",
    "newValue = randomField.createValue();\n",
    "newVersion = 1;\n",
    "randomMetadata = randomField.createMetadata();"
   ]
  },
  {
   "cell_type": "code",
   "execution_count": 404,
   "metadata": {},
   "outputs": [
    {
     "name": "stdout",
     "output_type": "stream",
     "text": [
      "lower 23817113413977 5 1\n",
      "upper 24899709478249 5 1\n",
      "[\n",
      "  23884775667994, 23952437922011,\n",
      "  24020100176028, 24087762430045,\n",
      "  24155424684062, 24223086938079,\n",
      "  24290749192096, 24358411446113,\n",
      "  24426073700130, 24493735954147,\n",
      "  24561398208164, 24629060462181,\n",
      "  24696722716198, 24764384970215,\n",
      "  24832047224232\n",
      "]\n"
     ]
    }
   ],
   "source": [
    "let { newVersion, newValue } = randomUpdate(randomField, newVersion, newValue, randomMetadata)"
   ]
  },
  {
   "cell_type": "code",
   "execution_count": 405,
   "metadata": {},
   "outputs": [
    {
     "data": {
      "text/plain": [
       "13"
      ]
     },
     "execution_count": 405,
     "metadata": {},
     "output_type": "execute_result"
    }
   ],
   "source": [
    "newVersion"
   ]
  },
  {
   "cell_type": "code",
   "execution_count": 406,
   "metadata": {},
   "outputs": [
    {
     "data": {
      "text/plain": [
       "'AAAAAAAAAAAAAAAAAAAAAAAAAAAAAAAAAAAAAAAAAAAAAAAAA'"
      ]
     },
     "execution_count": 406,
     "metadata": {},
     "output_type": "execute_result"
    }
   ],
   "source": [
    "newValue"
   ]
  },
  {
   "cell_type": "code",
   "execution_count": null,
   "metadata": {},
   "outputs": [],
   "source": [
    "randomMetadata"
   ]
  },
  {
   "cell_type": "code",
   "execution_count": 410,
   "metadata": {},
   "outputs": [
    {
     "data": {
      "text/plain": [
       "8"
      ]
     },
     "execution_count": 410,
     "metadata": {},
     "output_type": "execute_result"
    }
   ],
   "source": [
    "randomMetadata.ids[0].length"
   ]
  },
  {
   "cell_type": "code",
   "execution_count": 9,
   "metadata": {},
   "outputs": [],
   "source": [
    "function metadataSize(metadata) {\n",
    "    counts = {}\n",
    "    metadata.ids.forEach((item) => {\n",
    "        L = item.length/8;\n",
    "        if (counts[L]) {\n",
    "            counts[L] = counts[L]+1;\n",
    "        } else {\n",
    "            counts[L] = 1;\n",
    "        }\n",
    "    });\n",
    "    return counts;\n",
    "}"
   ]
  },
  {
   "cell_type": "code",
   "execution_count": 10,
   "metadata": {},
   "outputs": [],
   "source": [
    "function benchmarkUpdates(N) {\n",
    "    let randomField = new TextField();\n",
    "    let newValue = randomField.createValue();\n",
    "    let newVersion = 1;\n",
    "    let randomMetadata = randomField.createMetadata();\n",
    "    for (i=0; i<N; i++) {\n",
    "        result = randomUpdate(randomField, newVersion, newValue, randomMetadata);\n",
    "        newVersion = result.newVersion;\n",
    "        newValue = result.newValue;\n",
    "    }\n",
    "    let total = 0;\n",
    "    let counts = metadataSize(randomMetadata)\n",
    "    for (const k in counts) {\n",
    "        total += parseInt(k)*counts[k];\n",
    "    }\n",
    "    MB = total*16/1e6;\n",
    "    return {MB, total, length: newValue.length, counts};\n",
    "}"
   ]
  },
  {
   "cell_type": "code",
   "execution_count": 11,
   "metadata": {},
   "outputs": [
    {
     "data": {
      "text/plain": [
       "1024"
      ]
     },
     "execution_count": 11,
     "metadata": {},
     "output_type": "execute_result"
    }
   ],
   "source": [
    "2**10"
   ]
  },
  {
   "cell_type": "markdown",
   "metadata": {},
   "source": [
    "Old algorithm:"
   ]
  },
  {
   "cell_type": "code",
   "execution_count": 12,
   "metadata": {},
   "outputs": [
    {
     "data": {
      "text/plain": [
       "{\n",
       "  MB: 21.772496,\n",
       "  total: 1360781,\n",
       "  length: 409031,\n",
       "  counts: {\n",
       "    '1': 5251,\n",
       "    '2': 71895,\n",
       "    '3': 166175,\n",
       "    '4': 121097,\n",
       "    '5': 38962,\n",
       "    '6': 5540,\n",
       "    '7': 111\n",
       "  }\n",
       "}"
      ]
     },
     "execution_count": 12,
     "metadata": {},
     "output_type": "execute_result"
    }
   ],
   "source": [
    "benchmarkUpdates(2**12)"
   ]
  },
  {
   "cell_type": "markdown",
   "metadata": {},
   "source": [
    "New algorithm:"
   ]
  },
  {
   "cell_type": "code",
   "execution_count": 17,
   "metadata": {},
   "outputs": [
    {
     "data": {
      "text/plain": [
       "{\n",
       "  MB: 17.23528,\n",
       "  total: 1077205,\n",
       "  length: 410543,\n",
       "  counts: {\n",
       "    '1': 155248,\n",
       "    '2': 71937,\n",
       "    '3': 67727,\n",
       "    '4': 51863,\n",
       "    '5': 33216,\n",
       "    '6': 18878,\n",
       "    '7': 7157,\n",
       "    '8': 2863,\n",
       "    '9': 1441,\n",
       "    '10': 213\n",
       "  }\n",
       "}"
      ]
     },
     "execution_count": 17,
     "metadata": {},
     "output_type": "execute_result"
    }
   ],
   "source": [
    "benchmarkUpdates(2**12)"
   ]
  },
  {
   "cell_type": "code",
   "execution_count": 16,
   "metadata": {},
   "outputs": [
    {
     "data": {
      "text/plain": [
       "3.151515151515152"
      ]
     },
     "execution_count": 16,
     "metadata": {},
     "output_type": "execute_result"
    }
   ],
   "source": [
    "20.8/6.6"
   ]
  },
  {
   "cell_type": "code",
   "execution_count": null,
   "metadata": {},
   "outputs": [],
   "source": []
  }
 ],
 "metadata": {
  "kernelspec": {
   "display_name": "jp-Babel (Node.js)",
   "language": "babel",
   "name": "babel"
  },
  "language_info": {
   "file_extension": ".js",
   "mimetype": "application/javascript",
   "name": "javascript",
   "version": "12.12.0"
  }
 },
 "nbformat": 4,
 "nbformat_minor": 4
}
