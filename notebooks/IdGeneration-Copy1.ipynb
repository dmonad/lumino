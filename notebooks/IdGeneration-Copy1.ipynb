{
 "cells": [
  {
   "cell_type": "markdown",
   "metadata": {},
   "source": [
    "# Testing different schemes for encoding ids"
   ]
  },
  {
   "cell_type": "markdown",
   "metadata": {},
   "source": [
    "## Imports"
   ]
  },
  {
   "cell_type": "code",
   "execution_count": 1,
   "metadata": {},
   "outputs": [],
   "source": [
    "const convertHrtime = require('convert-hrtime');"
   ]
  },
  {
   "cell_type": "code",
   "execution_count": 2,
   "metadata": {},
   "outputs": [],
   "source": [
    "const d3array = require('d3-array')"
   ]
  },
  {
   "cell_type": "markdown",
   "metadata": {},
   "source": [
    "## Timing code"
   ]
  },
  {
   "cell_type": "code",
   "execution_count": 3,
   "metadata": {},
   "outputs": [
    {
     "data": {
      "text/plain": [
       "[Function: timeit]"
      ]
     },
     "execution_count": 3,
     "metadata": {},
     "output_type": "execute_result"
    }
   ],
   "source": [
    "export function timeit(n: number, f: any, args: any[]) {\n",
    "    let sum = 0.0;\n",
    "    for (i=0; i<n; i++) {\n",
    "        start = process.hrtime();\n",
    "        f.apply(null, args);\n",
    "        end = process.hrtime(start);\n",
    "        sum += convertHrtime(end).milliseconds;\n",
    "    }\n",
    "    return sum/n;\n",
    "}"
   ]
  },
  {
   "cell_type": "markdown",
   "metadata": {},
   "source": [
    "## ID generation functions"
   ]
  },
  {
   "cell_type": "code",
   "execution_count": 33,
   "metadata": {},
   "outputs": [],
   "source": [
    "namespace Private {\n",
    "\n",
    "  export\n",
    "  function createTriplet(path: number, version: number, store: number): string {\n",
    "    // Split the path into 16-bit values.\n",
    "    let pc = path & 0xFFFF;\n",
    "    let pb = (((path - pc) / 0x10000) | 0) & 0xFFFF;\n",
    "    let pa = (((path - pb - pc) / 0x100000000) | 0) & 0xFFFF;\n",
    "\n",
    "    // Split the version into 16-bit values.\n",
    "    let vc = version & 0xFFFF;\n",
    "    let vb = (((version - vc) / 0x10000) | 0) & 0xFFFF;\n",
    "    let va = (((version - vb - vc) / 0x100000000) | 0) & 0xFFFF;\n",
    "\n",
    "    // Split the store id into 16-bit values.\n",
    "    let sb = store & 0xFFFF;\n",
    "    let sa = (((store - sb) / 0x10000) | 0) & 0xFFFF;\n",
    "\n",
    "    // Convert the parts into a string identifier triplet.\n",
    "    return String.fromCharCode(pa, pb, pc, va, vb, vc, sa, sb);\n",
    "  }\n",
    "\n",
    "  export\n",
    "  function idTripletCount(id: string): number {\n",
    "    return id.length >> 3;\n",
    "  }\n",
    "\n",
    "  export\n",
    "  function idPathAt(id: string, i: number): number {\n",
    "    let j = i << 3;\n",
    "    let a = id.charCodeAt(j + 0);\n",
    "    let b = id.charCodeAt(j + 1);\n",
    "    let c = id.charCodeAt(j + 2);\n",
    "    return a * 0x100000000 + b * 0x10000 + c;\n",
    "  }\n",
    "\n",
    "  export\n",
    "  function idVersionAt(id: string, i: number): number {\n",
    "    let j = i << 3;\n",
    "    let a = id.charCodeAt(j + 3);\n",
    "    let b = id.charCodeAt(j + 4);\n",
    "    let c = id.charCodeAt(j + 5);\n",
    "    return a * 0x100000000 + b * 0x10000 + c;\n",
    "  }\n",
    "\n",
    "  export\n",
    "  function idStoreAt(id: string, i: number): number {\n",
    "    let j = i << 3;\n",
    "    let a = id.charCodeAt(j + 6);\n",
    "    let b = id.charCodeAt(j + 7);\n",
    "    return a * 0x10000 + b;\n",
    "  }\n",
    "\n",
    "  export\n",
    "  function randomPath(min: number, max: number): number {\n",
    "    return min + Math.round(Math.random() * Math.sqrt(max - min));\n",
    "  }\n",
    "    \n",
    "  export\n",
    "  function generatePaths(n: number, min: number, max: number): number[] {\n",
    "      let m = max - min;\n",
    "      let delta = m/(n+1);\n",
    "      console.log(m,n+1,m/(n+1),delta);\n",
    "      let paths = []\n",
    "      for (let i = 1; i <= n; i++) {\n",
    "          paths.push(Math.floor(min + i*delta));\n",
    "      }\n",
    "      console.log(paths);\n",
    "      return paths\n",
    "  }\n",
    "}"
   ]
  },
  {
   "cell_type": "code",
   "execution_count": 5,
   "metadata": {},
   "outputs": [
    {
     "name": "stdout",
     "output_type": "stream",
     "text": [
      "11 2 5.5 5.5\n"
     ]
    },
    {
     "data": {
      "text/plain": [
       "[ 5 ]"
      ]
     },
     "execution_count": 5,
     "metadata": {},
     "output_type": "execute_result"
    }
   ],
   "source": [
    "Private.generatePaths(1, 0, 11)"
   ]
  },
  {
   "cell_type": "code",
   "execution_count": 6,
   "metadata": {},
   "outputs": [
    {
     "data": {
      "text/plain": [
       "[Function: createDuplexId]"
      ]
     },
     "execution_count": 6,
     "metadata": {},
     "output_type": "execute_result"
    }
   ],
   "source": [
    "export\n",
    "function createDuplexId(version: number, store: number): string {\n",
    "  // Split the version into 16-bit values.\n",
    "  let vc = version & 0xFFFF;\n",
    "  let vb = (((version - vc) / 0x10000) | 0) & 0xFFFF;\n",
    "  let va = (((version - vb - vc) / 0x100000000) | 0) & 0xFFFF;\n",
    "\n",
    "  // Split the store id into 16-bit values.\n",
    "  let sb = store & 0xFFFF;\n",
    "  let sa = (((store - sb) / 0x10000) | 0) & 0xFFFF;\n",
    "\n",
    "  // Convert the parts into a string identifier duplex.\n",
    "  return String.fromCharCode(va, vb, vc, sa, sb);\n",
    "}"
   ]
  },
  {
   "cell_type": "code",
   "execution_count": 34,
   "metadata": {},
   "outputs": [
    {
     "data": {
      "text/plain": [
       "[Function: createTriplexIds]"
      ]
     },
     "execution_count": 34,
     "metadata": {},
     "output_type": "execute_result"
    }
   ],
   "source": [
    "export\n",
    "function createTriplexIds(n: number, version: number, store: number, lower: string, upper: string): string[] {\n",
    "  let ids: string[] = [];\n",
    "\n",
    "    whileIds: while (ids.length < n) {\n",
    "        const MAX_PATH = 0xFFFFFFFFFFFF;\n",
    "        let id = '';\n",
    "        let lowerCount = lower ? Private.idTripletCount(lower) : 0;\n",
    "        let upperCount = upper ? Private.idTripletCount(upper) : 0;\n",
    "        let p = 1 ? lowerCount+upperCount===0 : Math.max(lowerCount, upperCount);\n",
    "\n",
    "        forCount: for (let i = 0; i < p; ++i) {\n",
    "            let lp: number;\n",
    "            let lc: number;\n",
    "            let ls: number;\n",
    "            if (i >= lowerCount) {\n",
    "              lp = 0;\n",
    "              lc = 0;\n",
    "              ls = 0;\n",
    "            } else {\n",
    "              lp = Private.idPathAt(lower, i);\n",
    "              lc = Private.idVersionAt(lower, i);\n",
    "              ls = Private.idStoreAt(lower, i);\n",
    "            }\n",
    "            let up: number;\n",
    "            let uc: number;\n",
    "            let us: number;\n",
    "            if (i >= upperCount) {\n",
    "              up = upperCount === 0 ? MAX_PATH + 1 : 0;\n",
    "              uc = 0;\n",
    "              us = 0;\n",
    "            } else {\n",
    "              up = Private.idPathAt(upper, i);\n",
    "              uc = Private.idVersionAt(upper, i);\n",
    "              us = Private.idStoreAt(upper, i);\n",
    "            }\n",
    "\n",
    "            // lower === upper\n",
    "            if (lp === up && lc === uc && ls === us) {\n",
    "              id += Private.createTriplet(lp, lc, ls);\n",
    "              continue forCount;\n",
    "            }\n",
    "\n",
    "            if ((up - lp - 1) >= (n - ids.length)) {\n",
    "                let paths = Private.generatePaths(n, lp, up)\n",
    "                for (let j = 0, m = n-ids.length; j < m; j++) {\n",
    "                    ids.push(id + Private.createTriplet(paths[j], version, store));\n",
    "                }\n",
    "                return ids;\n",
    "            }\n",
    "\n",
    "            id += Private.createTriplet(lp, lc, ls);\n",
    "            upperCount = 0;\n",
    "        } // forCount\n",
    "\n",
    "        let np = Private.generatePaths(1, 1, MAX_PATH);\n",
    "        id += Private.createTriplet(np, version, store);\n",
    "        ids.push(id.slice());\n",
    "        id = '';\n",
    "  } // whileIds\n",
    "\n",
    "  return ids;\n",
    "}"
   ]
  },
  {
   "cell_type": "code",
   "execution_count": 99,
   "metadata": {},
   "outputs": [
    {
     "data": {
      "text/plain": [
       "'\\u0000\\u0000\\u0002\\u0000\\u0000\\u0002\\u0000\\u0001'"
      ]
     },
     "execution_count": 99,
     "metadata": {},
     "output_type": "execute_result"
    }
   ],
   "source": [
    "lower = Private.createTriplet(0,1,1)\n",
    "upper = Private.createTriplet(2,2,1)"
   ]
  },
  {
   "cell_type": "code",
   "execution_count": 100,
   "metadata": {},
   "outputs": [
    {
     "data": {
      "text/plain": [
       "'\\u0000\\u0000\\u0000\\u0000\\u0000\\u0001\\u0000\\u0001'"
      ]
     },
     "execution_count": 100,
     "metadata": {},
     "output_type": "execute_result"
    }
   ],
   "source": [
    "lower"
   ]
  },
  {
   "cell_type": "code",
   "execution_count": 101,
   "metadata": {},
   "outputs": [
    {
     "data": {
      "text/plain": [
       "'\\u0000\\u0000\\u0002\\u0000\\u0000\\u0002\\u0000\\u0001'"
      ]
     },
     "execution_count": 101,
     "metadata": {},
     "output_type": "execute_result"
    }
   ],
   "source": [
    "upper"
   ]
  },
  {
   "cell_type": "code",
   "execution_count": 102,
   "metadata": {},
   "outputs": [
    {
     "name": "stdout",
     "output_type": "stream",
     "text": [
      "2 2 1 1\n"
     ]
    },
    {
     "data": {
      "text/plain": [
       "[ '\\u0000\\u0000\\u0001\\u0000\\u0000\\u0003\\u0000\\u0001' ]"
      ]
     },
     "execution_count": 102,
     "metadata": {},
     "output_type": "execute_result"
    }
   ],
   "source": [
    "createTriplexIds(1, 3, 1, lower, upper)"
   ]
  },
  {
   "cell_type": "code",
   "execution_count": null,
   "metadata": {},
   "outputs": [],
   "source": [
    "Private.createTriplet()"
   ]
  },
  {
   "cell_type": "code",
   "execution_count": 25,
   "metadata": {},
   "outputs": [
    {
     "data": {
      "text/plain": [
       "'abc'"
      ]
     },
     "execution_count": 25,
     "metadata": {},
     "output_type": "execute_result"
    }
   ],
   "source": [
    "value = ''\n",
    "remove = 0\n",
    "index = 0\n",
    "text = 'abc'"
   ]
  },
  {
   "cell_type": "code",
   "execution_count": 26,
   "metadata": {},
   "outputs": [
    {
     "data": {
      "text/plain": [
       "0"
      ]
     },
     "execution_count": 26,
     "metadata": {},
     "output_type": "execute_result"
    }
   ],
   "source": [
    "index = Math.min(index, value.length)"
   ]
  },
  {
   "cell_type": "code",
   "execution_count": 27,
   "metadata": {},
   "outputs": [
    {
     "data": {
      "text/plain": [
       "0"
      ]
     },
     "execution_count": 27,
     "metadata": {},
     "output_type": "execute_result"
    }
   ],
   "source": [
    "count = Math.min(remove, value.length - index)"
   ]
  },
  {
   "cell_type": "code",
   "execution_count": 28,
   "metadata": {},
   "outputs": [
    {
     "data": {
      "text/plain": [
       "[]"
      ]
     },
     "execution_count": 28,
     "metadata": {},
     "output_type": "execute_result"
    }
   ],
   "source": [
    "metadata_ids = []"
   ]
  },
  {
   "cell_type": "code",
   "execution_count": 29,
   "metadata": {},
   "outputs": [
    {
     "data": {
      "text/plain": [
       "''"
      ]
     },
     "execution_count": 29,
     "metadata": {},
     "output_type": "execute_result"
    }
   ],
   "source": [
    "lower = index === 0 ? '' : metadata_ids[index - 1];\n",
    "upper = index === value.length ? '' : metadata_ids[index];"
   ]
  },
  {
   "cell_type": "code",
   "execution_count": 30,
   "metadata": {},
   "outputs": [
    {
     "data": {
      "text/plain": [
       "''"
      ]
     },
     "execution_count": 30,
     "metadata": {},
     "output_type": "execute_result"
    }
   ],
   "source": [
    "lower"
   ]
  },
  {
   "cell_type": "code",
   "execution_count": 31,
   "metadata": {},
   "outputs": [
    {
     "data": {
      "text/plain": [
       "''"
      ]
     },
     "execution_count": 31,
     "metadata": {},
     "output_type": "execute_result"
    }
   ],
   "source": [
    "upper"
   ]
  },
  {
   "cell_type": "code",
   "execution_count": 35,
   "metadata": {},
   "outputs": [
    {
     "name": "stdout",
     "output_type": "stream",
     "text": [
      "281474976710656 4 70368744177664 70368744177664\n",
      "[ 70368744177664, 140737488355328, 211106232532992 ]\n"
     ]
    },
    {
     "data": {
      "text/plain": [
       "[\n",
       "  '䀀\\u0000\\u0000\\u0000\\u0000\\u0001\\u0000\\u0001',\n",
       "  '耀\\u0000\\u0000\\u0000\\u0000\\u0001\\u0000\\u0001',\n",
       "  '쀀\\u0000\\u0000\\u0000\\u0000\\u0001\\u0000\\u0001'\n",
       "]"
      ]
     },
     "execution_count": 35,
     "metadata": {},
     "output_type": "execute_result"
    }
   ],
   "source": [
    "createTriplexIds(text.length, 1, 1, lower, upper)"
   ]
  },
  {
   "cell_type": "code",
   "execution_count": 21,
   "metadata": {},
   "outputs": [
    {
     "data": {
      "text/plain": [
       "0"
      ]
     },
     "execution_count": 21,
     "metadata": {},
     "output_type": "execute_result"
    }
   ],
   "source": [
    "lowerCount = lower ? Private.idTripletCount(lower) : 0;\n",
    "upperCount = upper ? Private.idTripletCount(upper) : 0;"
   ]
  },
  {
   "cell_type": "code",
   "execution_count": 22,
   "metadata": {},
   "outputs": [
    {
     "data": {
      "text/plain": [
       "0"
      ]
     },
     "execution_count": 22,
     "metadata": {},
     "output_type": "execute_result"
    }
   ],
   "source": [
    "lowerCount"
   ]
  },
  {
   "cell_type": "code",
   "execution_count": 23,
   "metadata": {},
   "outputs": [
    {
     "data": {
      "text/plain": [
       "0"
      ]
     },
     "execution_count": 23,
     "metadata": {},
     "output_type": "execute_result"
    }
   ],
   "source": [
    "upperCount"
   ]
  },
  {
   "cell_type": "markdown",
   "metadata": {},
   "source": [
    "## Base64 encoding"
   ]
  },
  {
   "cell_type": "code",
   "execution_count": null,
   "metadata": {},
   "outputs": [],
   "source": [
    "export function encodeBase64(input: string): string {\n",
    "    const buffer = Buffer.from(input);\n",
    "    return buffer.toString('base64');\n",
    "}"
   ]
  },
  {
   "cell_type": "code",
   "execution_count": null,
   "metadata": {},
   "outputs": [],
   "source": [
    "export function decodeBase64(input: string): string {\n",
    "    return Buffer.from(input, 'base64').toString()\n",
    "}"
   ]
  },
  {
   "cell_type": "markdown",
   "metadata": {},
   "source": [
    "## Regular expression (Ian's PR)"
   ]
  },
  {
   "cell_type": "code",
   "execution_count": null,
   "metadata": {},
   "outputs": [],
   "source": [
    "const HS_L = '\\uD800';\n",
    "const HS_U = '\\uDBFF';\n",
    "const LS_L = '\\uDC00';\n",
    "const LS_U = '\\uDFFF';\n",
    "const LS_REGEX = new RegExp(`([${LS_L}-${LS_U}])`, 'g');\n",
    "const UNPAIRED_HS_REGEX = new RegExp(\n",
    "    `([${HS_L}-${HS_U}])(?![${LS_L}-${LS_U}])`,\n",
    "    'g',\n",
    ");\n",
    "const PAIRED_LS_REGEX = new RegExp(`X${HS_L}([${LS_L}-${LS_U}])`, 'g');\n",
    "const PAIRED_HS_REGEX = new RegExp(`([${HS_L}-${HS_U}])${LS_L}X`, 'g');\n",
    "\n",
    "export\n",
    "function stripSurrogates(id: string): string {\n",
    "    return id.replace(PAIRED_LS_REGEX, '$1').replace(PAIRED_HS_REGEX, '$1');\n",
    "}\n",
    "\n",
    "export\n",
    "function generateIdString(str: string): string {\n",
    "    str = str.replace(LS_REGEX, `X${HS_L}$1`);\n",
    "    str = str.replace(UNPAIRED_HS_REGEX, `$1${LS_L}X`);\n",
    "    return str;\n",
    "}\n",
    "\n",
    "export\n",
    "function stringToCharCodes(s: string): number[] {\n",
    "    result = new Array<number>();\n",
    "    for (i=0; i<s.length; i++) {\n",
    "        result.push(s.charCodeAt(i))\n",
    "    }\n",
    "    return result\n",
    "}"
   ]
  },
  {
   "cell_type": "markdown",
   "metadata": {},
   "source": [
    "## Testing"
   ]
  },
  {
   "cell_type": "code",
   "execution_count": null,
   "metadata": {},
   "outputs": [],
   "source": [
    "ids = createTriplexIds(2**10,1,1)"
   ]
  },
  {
   "cell_type": "code",
   "execution_count": null,
   "metadata": {},
   "outputs": [],
   "source": [
    "timesA = ids.map(item => {\n",
    "    return timeit(100, encodeBase64, [item])\n",
    "})"
   ]
  },
  {
   "cell_type": "code",
   "execution_count": null,
   "metadata": {},
   "outputs": [],
   "source": [
    "meanA = d3array.mean(timesA)"
   ]
  },
  {
   "cell_type": "code",
   "execution_count": null,
   "metadata": {},
   "outputs": [],
   "source": [
    "timesB = ids.map(item => {\n",
    "    return timeit(100, generateIdString, [item])\n",
    "})"
   ]
  },
  {
   "cell_type": "code",
   "execution_count": null,
   "metadata": {},
   "outputs": [],
   "source": [
    "meanB = d3array.mean(timesB)"
   ]
  },
  {
   "cell_type": "code",
   "execution_count": null,
   "metadata": {},
   "outputs": [],
   "source": [
    "meanB/meanA"
   ]
  },
  {
   "cell_type": "code",
   "execution_count": null,
   "metadata": {},
   "outputs": [],
   "source": [
    "patchIds = createTriplexIds(2**13, 1, 1, ids[0], ids[1])"
   ]
  },
  {
   "cell_type": "markdown",
   "metadata": {},
   "source": [
    "## Scratch"
   ]
  },
  {
   "cell_type": "code",
   "execution_count": 6,
   "metadata": {},
   "outputs": [
    {
     "data": {
      "text/plain": [
       "8"
      ]
     },
     "execution_count": 6,
     "metadata": {},
     "output_type": "execute_result"
    }
   ],
   "source": [
    "10-2"
   ]
  },
  {
   "cell_type": "code",
   "execution_count": 8,
   "metadata": {},
   "outputs": [
    {
     "data": {
      "text/plain": [
       "2"
      ]
     },
     "execution_count": 8,
     "metadata": {},
     "output_type": "execute_result"
    }
   ],
   "source": [
    "Math.floor(8/3)"
   ]
  },
  {
   "cell_type": "code",
   "execution_count": 9,
   "metadata": {},
   "outputs": [
    {
     "data": {
      "text/plain": [
       "4"
      ]
     },
     "execution_count": 9,
     "metadata": {},
     "output_type": "execute_result"
    }
   ],
   "source": [
    "2+ 2"
   ]
  },
  {
   "cell_type": "code",
   "execution_count": 10,
   "metadata": {},
   "outputs": [
    {
     "data": {
      "text/plain": [
       "6"
      ]
     },
     "execution_count": 10,
     "metadata": {},
     "output_type": "execute_result"
    }
   ],
   "source": [
    "2+2+2"
   ]
  },
  {
   "cell_type": "code",
   "execution_count": null,
   "metadata": {},
   "outputs": [
    {
     "ename": "SyntaxError",
     "evalue": "unknown: Support for the experimental syntax 'decorators-legacy' isn't currently enabled (1:5):\n\n\u001b[0m\u001b[31m\u001b[1m>\u001b[22m\u001b[39m\u001b[90m 1 | \u001b[39m\u001b[35m2\u001b[39m\u001b[33m+\u001b[39m\u001b[35m2\u001b[39m\u001b[33m+\u001b[39m\u001b[33m@\u001b[39m\u001b[0m\n\u001b[0m \u001b[90m   | \u001b[39m    \u001b[31m\u001b[1m^\u001b[22m\u001b[39m\u001b[0m",
     "execution_count": 11,
     "output_type": "error",
     "traceback": [
      "SyntaxError: unknown: Support for the experimental syntax 'decorators-legacy' isn't currently enabled (1:5):",
      "",
      "\u001b[0m\u001b[31m\u001b[1m>\u001b[22m\u001b[39m\u001b[90m 1 | \u001b[39m\u001b[35m2\u001b[39m\u001b[33m+\u001b[39m\u001b[35m2\u001b[39m\u001b[33m+\u001b[39m\u001b[33m@\u001b[39m\u001b[0m",
      "\u001b[0m \u001b[90m   | \u001b[39m    \u001b[31m\u001b[1m^\u001b[22m\u001b[39m\u001b[0m",
      "    at Object.raise (/Users/brgrange/anaconda3/lib/node_modules/jp-babel/node_modules/@babel/parser/lib/index.js:6930:17)",
      "    at Object.expectOnePlugin (/Users/brgrange/anaconda3/lib/node_modules/jp-babel/node_modules/@babel/parser/lib/index.js:8338:18)",
      "    at Object.parseDecorator (/Users/brgrange/anaconda3/lib/node_modules/jp-babel/node_modules/@babel/parser/lib/index.js:10793:10)",
      "    at Object.parseDecorators (/Users/brgrange/anaconda3/lib/node_modules/jp-babel/node_modules/@babel/parser/lib/index.js:10775:30)",
      "    at Object.parseExprAtom (/Users/brgrange/anaconda3/lib/node_modules/jp-babel/node_modules/@babel/parser/lib/index.js:9534:14)",
      "    at Object.parseExprAtom (/Users/brgrange/anaconda3/lib/node_modules/jp-babel/node_modules/@babel/parser/lib/index.js:4082:20)",
      "    at Object.parseExprSubscripts (/Users/brgrange/anaconda3/lib/node_modules/jp-babel/node_modules/@babel/parser/lib/index.js:9165:23)",
      "    at Object.parseMaybeUnary (/Users/brgrange/anaconda3/lib/node_modules/jp-babel/node_modules/@babel/parser/lib/index.js:9145:21)",
      "    at Object.parseMaybeUnary (/Users/brgrange/anaconda3/lib/node_modules/jp-babel/node_modules/@babel/parser/lib/index.js:6187:20)",
      "    at Object.parseExprOpBaseRightExpr (/Users/brgrange/anaconda3/lib/node_modules/jp-babel/node_modules/@babel/parser/lib/index.js:9105:34)"
     ]
    }
   ],
   "source": [
    "2+2+@"
   ]
  },
  {
   "cell_type": "code",
   "execution_count": null,
   "metadata": {},
   "outputs": [],
   "source": []
  }
 ],
 "metadata": {
  "kernelspec": {
   "display_name": "jp-Babel (Node.js)",
   "language": "babel",
   "name": "babel"
  },
  "language_info": {
   "file_extension": ".js",
   "mimetype": "application/javascript",
   "name": "javascript",
   "version": "12.12.0"
  }
 },
 "nbformat": 4,
 "nbformat_minor": 4
}
